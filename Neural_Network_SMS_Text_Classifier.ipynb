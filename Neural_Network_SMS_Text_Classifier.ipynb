{
  "cells": [
    {
      "cell_type": "code",
      "execution_count": null,
      "metadata": {
        "id": "8RZOuS9LWQvv"
      },
      "outputs": [],
      "source": [
        "# import libraries\n",
        "try:\n",
        "  # %tensorflow_version only exists in Colab.\n",
        "  !pip install tf-nightly\n",
        "except Exception:\n",
        "  pass\n",
        "import tensorflow as tf\n",
        "import pandas as pd\n",
        "from tensorflow import keras\n",
        "!pip install tensorflow-datasets\n",
        "import tensorflow_datasets as tfds\n",
        "import numpy as np\n",
        "import matplotlib.pyplot as plt\n",
        "\n",
        "print(tf.__version__)"
      ]
    },
    {
      "cell_type": "code",
      "source": [
        "from keras.preprocessing.text import one_hot\n",
        "from keras.preprocessing.sequence import pad_sequences\n",
        "from keras.layers import Flatten, Embedding, Dense\n",
        "from keras.callbacks import EarlyStopping\n",
        "from keras.models import Sequential"
      ],
      "metadata": {
        "id": "6XvhcKOvF_dB"
      },
      "execution_count": null,
      "outputs": []
    },
    {
      "cell_type": "code",
      "execution_count": null,
      "metadata": {
        "id": "lMHwYXHXCar3"
      },
      "outputs": [],
      "source": [
        "# get data files\n",
        "!wget https://cdn.freecodecamp.org/project-data/sms/train-data.tsv\n",
        "!wget https://cdn.freecodecamp.org/project-data/sms/valid-data.tsv\n",
        "\n",
        "train_file_path = \"train-data.tsv\"\n",
        "test_file_path = \"valid-data.tsv\""
      ]
    },
    {
      "cell_type": "code",
      "execution_count": null,
      "metadata": {
        "id": "g_h508FEClxO"
      },
      "outputs": [],
      "source": [
        "df_train = pd.read_csv(train_file_path, delimiter='\\t', header=None)\n",
        "df_test = pd.read_csv(test_file_path, delimiter='\\t', header=None)"
      ]
    },
    {
      "cell_type": "markdown",
      "source": [],
      "metadata": {
        "id": "KrwNNj5qB5Sa"
      }
    },
    {
      "cell_type": "code",
      "execution_count": null,
      "metadata": {
        "id": "zOMKywn4zReN"
      },
      "outputs": [],
      "source": [
        "df_train.head()"
      ]
    },
    {
      "cell_type": "code",
      "source": [
        "new_columns = ['class', 'message']\n",
        "df_train.columns = new_columns\n",
        "df_test.columns = new_columns"
      ],
      "metadata": {
        "id": "EseVhIbfCUV9"
      },
      "execution_count": null,
      "outputs": []
    },
    {
      "cell_type": "code",
      "source": [
        "df_train.head()"
      ],
      "metadata": {
        "id": "q5jrEDnfCl7M"
      },
      "execution_count": null,
      "outputs": []
    },
    {
      "cell_type": "code",
      "source": [
        "df_train.info()"
      ],
      "metadata": {
        "id": "UMeNEMsICqOs"
      },
      "execution_count": null,
      "outputs": []
    },
    {
      "cell_type": "code",
      "source": [
        "train_message = df_train[\"message\"].values.tolist()\n",
        "train_label = np.array([0 if x==\"ham\" else 1 for x in df_train['class'].values.tolist()])\n",
        "test_message = df_test[\"message\"].values.tolist()\n",
        "test_label = np.array([0 if x==\"ham\" else 1 for x in df_test['class'].values.tolist()])"
      ],
      "metadata": {
        "id": "o2SDZ2ZTCqM3"
      },
      "execution_count": null,
      "outputs": []
    },
    {
      "cell_type": "code",
      "source": [
        "print(test_label)"
      ],
      "metadata": {
        "id": "0fWBYza0CqKR"
      },
      "execution_count": null,
      "outputs": []
    },
    {
      "cell_type": "code",
      "source": [
        "vocabulary_dict = {}\n",
        "for msg in train_message:\n",
        "  for vocabulary in msg.split():\n",
        "    if vocabulary not in vocabulary_dict:\n",
        "      vocabulary_dict[vocabulary] = 1\n",
        "    else:\n",
        "      vocabulary_dict[vocabulary] += 1"
      ],
      "metadata": {
        "id": "9O2kcX-PCqDE"
      },
      "execution_count": null,
      "outputs": []
    },
    {
      "cell_type": "code",
      "source": [
        "VOCAB_SIZE = len(vocabulary_dict)\n",
        "MAX_LENGTH = len(max(train_message, key=lambda p: len(p.split())).split())"
      ],
      "metadata": {
        "id": "-2CJLVg4FBpq"
      },
      "execution_count": null,
      "outputs": []
    },
    {
      "cell_type": "code",
      "source": [
        "print(VOCAB_SIZE)"
      ],
      "metadata": {
        "id": "fq6TYYoFFBnU"
      },
      "execution_count": null,
      "outputs": []
    },
    {
      "cell_type": "code",
      "source": [
        "print(MAX_LENGTH)"
      ],
      "metadata": {
        "id": "4--JF2ErFBk-"
      },
      "execution_count": null,
      "outputs": []
    },
    {
      "cell_type": "code",
      "source": [
        "encoded_train_message = [one_hot(d, VOCAB_SIZE) for d in train_message]\n",
        "padded_train_message = pad_sequences(encoded_train_message, maxlen=MAX_LENGTH, padding='post')\n",
        "encoded_test_message = [one_hot(d, VOCAB_SIZE) for d in test_message]\n",
        "padded_test_message = pad_sequences(encoded_test_message, maxlen=MAX_LENGTH, padding='post')"
      ],
      "metadata": {
        "id": "UQeCVOuFFBeN"
      },
      "execution_count": null,
      "outputs": []
    },
    {
      "cell_type": "code",
      "source": [
        "model = Sequential()\n",
        "embedding_layer = Embedding(VOCAB_SIZE, 100, input_length=MAX_LENGTH)\n",
        "model.add(embedding_layer)\n",
        "model.add(Flatten())\n",
        "model.add(Dense(1, activation='sigmoid'))\n",
        "model.compile(optimizer='adam', loss='binary_crossentropy', metrics=['acc'])\n",
        "monitor = EarlyStopping(monitor='val_acc', min_delta=1e-4, patience=25, verbose=1, mode='max', restore_best_weights=True)\n",
        "model.fit(padded_train_message, train_label, validation_data=(padded_test_message, test_label), callbacks=[monitor], epochs=1000, verbose=2)\n"
      ],
      "metadata": {
        "id": "H2B_r-nyF2uZ"
      },
      "execution_count": null,
      "outputs": []
    },
    {
      "cell_type": "code",
      "source": [],
      "metadata": {
        "id": "cBepG_9sF2it"
      },
      "execution_count": null,
      "outputs": []
    },
    {
      "cell_type": "code",
      "source": [],
      "metadata": {
        "id": "TX4L9Cq5F2cu"
      },
      "execution_count": null,
      "outputs": []
    },
    {
      "cell_type": "code",
      "execution_count": null,
      "metadata": {
        "id": "J9tD9yACG6M9"
      },
      "outputs": [],
      "source": [
        "\n",
        "# function to predict messages based on model\n",
        "def predict_message(pred_text):\n",
        "  class_dict = {\n",
        "      0 : \"ham\",\n",
        "      1 : \"spam\",\n",
        "      }\n",
        "  encoded_message = [one_hot(pred_text, VOCAB_SIZE)]\n",
        "  padded_message = pad_sequences(encoded_message, maxlen=MAX_LENGTH, padding='post')\n",
        "  prediction = [model.predict(padded_message)[0][0], class_dict[np.round(model.predict(padded_message)[0][0])]]\n",
        "  return prediction\n",
        "\n",
        "pred_text = \"how are you doing today?\"\n",
        "\n",
        "prediction = predict_message(pred_text)\n",
        "print(prediction)"
      ]
    },
    {
      "cell_type": "code",
      "execution_count": null,
      "metadata": {
        "id": "Dxotov85SjsC"
      },
      "outputs": [],
      "source": [
        "# Run this cell to test your function and model. Do not modify contents.\n",
        "def test_predictions():\n",
        "  test_messages = [\"how are you doing today\",\n",
        "                   \"sale today! to stop texts call 98912460324\",\n",
        "                   \"i dont want to go. can we try it a different day? available sat\",\n",
        "                   \"our new mobile video service is live. just install on your phone to start watching.\",\n",
        "                   \"you have won £1000 cash! call to claim your prize.\",\n",
        "                   \"i'll bring it tomorrow. don't forget the milk.\",\n",
        "                   \"wow, is your arm alright. that happened to me one time too\"\n",
        "                  ]\n",
        "\n",
        "  test_answers = [\"ham\", \"spam\", \"ham\", \"spam\", \"spam\", \"ham\", \"ham\"]\n",
        "  passed = True\n",
        "\n",
        "  for msg, ans in zip(test_messages, test_answers):\n",
        "    prediction = predict_message(msg)\n",
        "    if prediction[1] != ans:\n",
        "      passed = False\n",
        "\n",
        "  if passed:\n",
        "    print(\"You passed the challenge. Great job!\")\n",
        "  else:\n",
        "    print(\"You haven't passed yet. Keep trying.\")\n",
        "\n",
        "test_predictions()\n"
      ]
    }
  ],
  "metadata": {
    "colab": {
      "private_outputs": true,
      "provenance": []
    },
    "kernelspec": {
      "display_name": "Python 3",
      "name": "python3"
    },
    "language_info": {}
  },
  "nbformat": 4,
  "nbformat_minor": 0
}